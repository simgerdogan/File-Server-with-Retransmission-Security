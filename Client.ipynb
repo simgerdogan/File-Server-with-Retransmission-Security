{
 "cells": [
  {
   "cell_type": "code",
   "execution_count": 1,
   "metadata": {},
   "outputs": [],
   "source": [
    "import sys\n",
    "import json\n",
    "import requests\n",
    "from base64 import b64encode\n",
    "from Crypto.Cipher import AES\n",
    "from Crypto.Random import get_random_bytes  \n",
    "from base64 import b64decode\n",
    "import re\n"
   ]
  },
  {
   "cell_type": "code",
   "execution_count": 2,
   "metadata": {},
   "outputs": [],
   "source": [
    "def findMissing(totalBlock,receivedBlocks):\n",
    "    missingBlock = None\n",
    "\n",
    "    for i in range(0,totalBlock):\n",
    "        blockName = 'block-'+str(i)+'.txt'\n",
    "        if blockName not in receivedBlocks:\n",
    "            missingBlock = i\n",
    "            print(\"Missing block found : \" + blockName)\n",
    "            \n",
    "    return missingBlock\n",
    "            \n",
    "    "
   ]
  },
  {
   "cell_type": "code",
   "execution_count": 3,
   "metadata": {},
   "outputs": [],
   "source": [
    "def receiveMissing(missingBlock):\n",
    "    print(\"Receiving missing block...\")\n",
    "    url = \"http://127.0.0.1:161/getMissing/\"+str(missingBlock)\n",
    "    missingResult =session.get(url)    \n",
    "    missingResult = json.loads(missingResult.content)\n",
    "    responseData.append(missingResult)\n",
    "    print(\"Missing Block Received..\")"
   ]
  },
  {
   "cell_type": "code",
   "execution_count": 4,
   "metadata": {},
   "outputs": [],
   "source": [
    "#to sort\n",
    "def atoi(text):\n",
    "    return int(text) if text.isdigit() else text\n",
    "\n",
    "def natural_keys(text):   \n",
    "    return [ atoi(c) for c in re.split(r'(\\d+)', text) ]\n"
   ]
  },
  {
   "cell_type": "code",
   "execution_count": 5,
   "metadata": {},
   "outputs": [],
   "source": [
    "def decrpytion(): \n",
    "    #sort data\n",
    "    responseDataSorted = sorted(responseData, key=lambda k: natural_keys(k.get('fileName')), reverse=False)\n",
    "    print(\"Decrpytion began ...\")\n",
    "    for currentBlock in responseDataSorted:\n",
    "        fileName = currentBlock['fileName']\n",
    "        data = currentBlock['data']\n",
    "        nonce = nonceList[fileName]\n",
    "        currentNonce = b64decode(nonce)\n",
    "        encrpytedBlock = b64decode(data)\n",
    "        cipher = AES.new(key, AES.MODE_CTR, nonce=currentNonce)    \n",
    "        decryptedText = cipher.decrypt(encrpytedBlock) \n",
    "        decrpytedList.append(decryptedText.decode(\"utf-8\"))\n",
    "        decrpytedList.append('\\n')\n",
    "        \n",
    "    print(\"Decrpytion done..\")\n",
    "    "
   ]
  },
  {
   "cell_type": "code",
   "execution_count": 6,
   "metadata": {},
   "outputs": [],
   "source": [
    "def exportBook():\n",
    "    print(\"Exporting book..\")\n",
    "    decryptionPath = \"./clientBlocks/bookDecrypted.txt\"\n",
    "    byteArray = []\n",
    "    \n",
    "    file = open(decryptionPath, \"wb+\")\n",
    "    #writing encrpytedBlock \n",
    "    #converting lines to bytes and inserting them to bytearray\n",
    "    for currentLine in decrpytedList:\n",
    "        tempByteArray = bytearray(currentLine, 'utf-8')\n",
    "        byteArray.append(tempByteArray)\n",
    "\n",
    "    for currentBytes in byteArray:\n",
    "          file.write(currentBytes)\n",
    "\n",
    "            \n",
    "    file.close()    \n",
    "    print(\"Book has been exported..\")\n"
   ]
  },
  {
   "cell_type": "code",
   "execution_count": 7,
   "metadata": {},
   "outputs": [],
   "source": [
    "def getReceiveBlocks(responseData):\n",
    "    receivedBlocks = []\n",
    "    for currentData in responseData:\n",
    "        receivedBlocks.append(currentData['fileName'])\n",
    "        \n",
    "    return receivedBlocks\n",
    "        "
   ]
  },
  {
   "cell_type": "markdown",
   "metadata": {},
   "source": [
    "# Main"
   ]
  },
  {
   "cell_type": "code",
   "execution_count": 8,
   "metadata": {},
   "outputs": [
    {
     "name": "stdout",
     "output_type": "stream",
     "text": [
      "Missing block found : block-1893.txt\n",
      "Receiving missing block...\n",
      "Missing Block Received..\n",
      "Decrpytion began ...\n",
      "Decrpytion done..\n",
      "Exporting book..\n",
      "Book has been exported..\n"
     ]
    }
   ],
   "source": [
    "#Get initial request\n",
    "session = requests.Session()\n",
    "request = session.get('http://127.0.0.1:161/')\n",
    "#convert response to json\n",
    "response = json.loads(request.content)\n",
    "\n",
    "responseData = response['data']\n",
    "key = str.encode(response['key'])\n",
    "totalBlock = response['totalBlockCount']\n",
    "nonceList = response['nonceList']\n",
    "decrpytedList = []\n",
    "\n",
    "receivedBlocks = getReceiveBlocks(responseData)\n",
    "\n",
    "\n",
    "\n",
    "missingBlock = findMissing(totalBlock,receivedBlocks)\n",
    "\n",
    "if missingBlock :\n",
    "    receiveMissing(missingBlock)\n",
    "\n",
    "decrpytion()\n",
    "exportBook()\n"
   ]
  },
  {
   "cell_type": "code",
   "execution_count": null,
   "metadata": {},
   "outputs": [],
   "source": []
  }
 ],
 "metadata": {
  "kernelspec": {
   "display_name": "Python 3",
   "language": "python",
   "name": "python3"
  },
  "language_info": {
   "codemirror_mode": {
    "name": "ipython",
    "version": 3
   },
   "file_extension": ".py",
   "mimetype": "text/x-python",
   "name": "python",
   "nbconvert_exporter": "python",
   "pygments_lexer": "ipython3",
   "version": "3.8.3"
  }
 },
 "nbformat": 4,
 "nbformat_minor": 4
}
