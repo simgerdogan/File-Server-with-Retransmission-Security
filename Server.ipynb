{
 "cells": [
  {
   "cell_type": "markdown",
   "metadata": {},
   "source": [
    "# CSE 439 Assignment-1"
   ]
  },
  {
   "cell_type": "markdown",
   "metadata": {},
   "source": [
    "# Student Information"
   ]
  },
  {
   "cell_type": "markdown",
   "metadata": {},
   "source": [
    "Simge Pınar Erdoğan\n",
    "20180702092"
   ]
  },
  {
   "cell_type": "markdown",
   "metadata": {},
   "source": [
    "# Importing Frameworks and Libraries"
   ]
  },
  {
   "cell_type": "code",
   "execution_count": 1,
   "metadata": {
    "id": "g4_OH1C0Ca_Z"
   },
   "outputs": [],
   "source": [
    "import json\n",
    "from base64 import b64encode\n",
    "from Crypto.Cipher import AES\n",
    "from Crypto.Random import get_random_bytes  \n",
    "from base64 import b64decode\n",
    "import sys\n",
    "from flask import Flask\n",
    "from flask import request\n",
    "from flask_cors import CORS, cross_origin\n",
    "from flask import *  \n",
    "import time\n",
    "import os\n",
    "import random\n",
    "import glob\n",
    "\n",
    "\n",
    "\n",
    "\n"
   ]
  },
  {
   "cell_type": "markdown",
   "metadata": {},
   "source": [
    "# Defining Server Parameters"
   ]
  },
  {
   "cell_type": "code",
   "execution_count": 2,
   "metadata": {},
   "outputs": [
    {
     "data": {
      "text/plain": [
       "<flask_cors.extension.CORS at 0x17d22334100>"
      ]
     },
     "execution_count": 2,
     "metadata": {},
     "output_type": "execute_result"
    }
   ],
   "source": [
    "app = Flask(__name__)\n",
    "app.secret_key = \"abc\"  \n",
    "CORS(app)"
   ]
  },
  {
   "cell_type": "markdown",
   "metadata": {},
   "source": [
    "# Defining Constent Parameters and nonceList"
   ]
  },
  {
   "cell_type": "code",
   "execution_count": 3,
   "metadata": {
    "id": "rppJTNoaisF8"
   },
   "outputs": [],
   "source": [
    "key =  str.encode(\"Thats my Kung Fu\")\n",
    "host = '127.0.0.1'\n",
    "port = 161\n",
    "nonce = 'Dx3SiuVkVJI='\n",
    "nonceList = {}"
   ]
  },
  {
   "cell_type": "markdown",
   "metadata": {},
   "source": [
    "# Defining functions"
   ]
  },
  {
   "cell_type": "markdown",
   "metadata": {},
   "source": [
    "## Encryption of blocks based on given key and block number"
   ]
  },
  {
   "cell_type": "code",
   "execution_count": 4,
   "metadata": {
    "id": "-87lMrgewgPS"
   },
   "outputs": [],
   "source": [
    "def encryptBlock(): \n",
    "    \n",
    "  #path of original text with given blocknumber\n",
    "  blocksFolderName = './blocks'\n",
    "    \n",
    "  for blockFile in os.listdir(blocksFolderName):\n",
    "      #reading the original text \n",
    "      blocksPath = blocksFolderName + '/'+blockFile   \n",
    "      with open(blocksPath,encoding=\"utf8\") as currentBlock:\n",
    "          blockData = currentBlock.read()    \n",
    "          blockData = str.encode(blockData)\n",
    "          cipher = AES.new(key, AES.MODE_CTR)\n",
    "          #encrpyting\n",
    "          ct_bytes = cipher.encrypt(blockData)\n",
    "          #taking the nonce\n",
    "          nonce = b64encode(cipher.nonce).decode('utf-8')\n",
    "          #inserting nonce to nonceList with given key in order to obtain in decrpytion part\n",
    "          nonceList[blockFile]= nonce\n",
    "\n",
    "          encrpytedBlock = b64encode(ct_bytes).decode('utf-8')\n",
    "\n",
    "          #creating encrypted file\n",
    "          encryptionFolderName = './encryptedBlocks/'\n",
    "          encryptionPath = encryptionFolderName + blockFile\n",
    "\n",
    "          file = open(encryptionPath, \"w+\")\n",
    "          #writing encrpytedBlock \n",
    "          file.write(encrpytedBlock)\n",
    "\n",
    "          file.close()\n",
    "\n",
    "  print(\"Encryption is done succesfully\")\n"
   ]
  },
  {
   "cell_type": "markdown",
   "metadata": {},
   "source": [
    "# Creating blocks from book"
   ]
  },
  {
   "cell_type": "code",
   "execution_count": 5,
   "metadata": {
    "colab": {
     "base_uri": "https://localhost:8080/",
     "height": 421
    },
    "id": "xmcVQnhR7Bgx",
    "outputId": "24e174ae-9b11-45c5-c001-eaa6cd3b825f"
   },
   "outputs": [],
   "source": [
    "def createBlocks():\n",
    "    #desired book file\n",
    "    fileName = 'book.txt'\n",
    "\n",
    "\n",
    "    #Reading the book file and obtaining liens\n",
    "    with open(fileName,encoding=\"utf8\") as bookFile:\n",
    "          linesList = bookFile.read().splitlines() \n",
    "\n",
    "    #filtering lines \n",
    "    linesList = list(filter(('').__ne__, linesList))\n",
    "    byteArray = []\n",
    "\n",
    "    #converting lines to bytes and inserting them to bytearray\n",
    "    for currentLine in linesList:\n",
    "        tempByteArray = bytearray(currentLine, 'utf-8')\n",
    "        byteArray.append(tempByteArray)\n",
    "\n",
    "    #Dividing byte array to desired length(16 byte) byte blocks 128 bits = 16 byte \n",
    "    byteBlocks = [byteArray[i:i+16] for i in range(0, len(byteArray), 16)]\n",
    "\n",
    "    #creating byte blocks txt files of the book from byteBlocks array. \n",
    "    counter = 0 \n",
    "    for currentBlock in byteBlocks:\n",
    "        folderName = 'blocks'\n",
    "        fileName = 'block-' + str(counter)\n",
    "        path = './'+ folderName + '/'+ fileName+'.txt'\n",
    "        #print(\"path => \" + path)\n",
    "        file = open(path, \"wb+\")\n",
    "\n",
    "        for currentBytes in currentBlock:\n",
    "          file.write(currentBytes)\n",
    "\n",
    "        file.close()\n",
    "        counter = counter + 1\n",
    "\n"
   ]
  },
  {
   "cell_type": "markdown",
   "metadata": {},
   "source": [
    "# Main"
   ]
  },
  {
   "cell_type": "code",
   "execution_count": 6,
   "metadata": {},
   "outputs": [],
   "source": [
    "def getSessionId():     \n",
    "    if 'id' in session:\n",
    "        return session['id']\n",
    "    else:        \n",
    "        #current time in miliseconds in order to create unique user id\n",
    "        currentTimeMs = str(round(time.time() * 1000))\n",
    "        session['id'] = currentTimeMs\n",
    "        return currentTimeMs"
   ]
  },
  {
   "cell_type": "code",
   "execution_count": 7,
   "metadata": {},
   "outputs": [],
   "source": [
    "def transferFiles(notSendBlockNumber):\n",
    "  blocksArray = []  \n",
    "  #path of original text with given blocknumber\n",
    "  blocksFolderName = './encryptedBlocks'\n",
    "  notSendFile = \"block-\"+str(notSendBlockNumber)+\".txt\"\n",
    "\n",
    "  for blockFile in os.listdir(blocksFolderName):\n",
    "      #reading the encrypted text \n",
    "      blocksPath = blocksFolderName + '/'+blockFile   \n",
    "      if blockFile != notSendFile:  \n",
    "          with open(blocksPath,encoding=\"utf8\") as currentBlock:\n",
    "              blockData = currentBlock.read()  \n",
    "              currentData = {\n",
    "                  \"data\":blockData,\n",
    "                  \"fileName\":blockFile\n",
    "              }   \n",
    "              blocksArray.append(currentData)\n",
    "                \n",
    "  returnData = {\n",
    "      \"data\":blocksArray\n",
    "  }               \n",
    "  return returnData\n",
    "    "
   ]
  },
  {
   "cell_type": "code",
   "execution_count": 8,
   "metadata": {},
   "outputs": [],
   "source": [
    "def getBlockCount():\n",
    "    path, dirs, files = next(os.walk(\"./blocks\"))\n",
    "    return len(files)"
   ]
  },
  {
   "cell_type": "code",
   "execution_count": 9,
   "metadata": {},
   "outputs": [],
   "source": [
    "@app.route('/')\n",
    "def getFiles():\n",
    "    totalBlockCount = getBlockCount()\n",
    "    notSendBlockNumber = random.randint(0, totalBlockCount)\n",
    "    print(notSendBlockNumber)\n",
    "    sessionId = getSessionId()\n",
    "    \n",
    "    returnData = transferFiles(notSendBlockNumber)\n",
    "    returnData['key']=key.decode(\"utf-8\") \n",
    "    returnData['totalBlockCount'] = totalBlockCount\n",
    "    returnData['nonceList'] = nonceList\n",
    "    \n",
    "    return returnData\n",
    "    \n",
    "    \n",
    "    \n"
   ]
  },
  {
   "cell_type": "code",
   "execution_count": 10,
   "metadata": {},
   "outputs": [],
   "source": [
    "@app.route('/getMissing/<missingBlockNumber>')\n",
    "def getMissing(missingBlockNumber):\n",
    "   print(missingBlockNumber) \n",
    "   blocksFolderName = './encryptedBlocks'\n",
    "   blockFile = \"block-\"+str(missingBlockNumber)+\".txt\"\n",
    "   blocksPath = blocksFolderName + '/'+blockFile \n",
    "\n",
    "   with open(blocksPath,encoding=\"utf8\") as currentBlock:\n",
    "              blockData = currentBlock.read()  \n",
    "              currentData = {\n",
    "                  \"data\":blockData,\n",
    "                  \"fileName\":blockFile\n",
    "              }   \n",
    "              return currentData\n",
    "\n",
    "    "
   ]
  },
  {
   "cell_type": "code",
   "execution_count": null,
   "metadata": {},
   "outputs": [
    {
     "name": "stdout",
     "output_type": "stream",
     "text": [
      "Encryption is done succesfully\n",
      " * Serving Flask app \"__main__\" (lazy loading)\n",
      " * Environment: production\n",
      "   WARNING: This is a development server. Do not use it in a production deployment.\n",
      "   Use a production WSGI server instead.\n",
      " * Debug mode: off\n"
     ]
    },
    {
     "name": "stderr",
     "output_type": "stream",
     "text": [
      " * Running on http://127.0.0.1:161/ (Press CTRL+C to quit)\n"
     ]
    },
    {
     "name": "stdout",
     "output_type": "stream",
     "text": [
      "3134\n"
     ]
    },
    {
     "name": "stderr",
     "output_type": "stream",
     "text": [
      "127.0.0.1 - - [05/Jan/2021 20:16:56] \"\u001b[37mGET / HTTP/1.1\u001b[0m\" 200 -\n",
      "127.0.0.1 - - [05/Jan/2021 20:16:56] \"\u001b[37mGET /getMissing/3134 HTTP/1.1\u001b[0m\" 200 -\n"
     ]
    },
    {
     "name": "stdout",
     "output_type": "stream",
     "text": [
      "3134\n",
      "1893\n"
     ]
    },
    {
     "name": "stderr",
     "output_type": "stream",
     "text": [
      "127.0.0.1 - - [05/Jan/2021 20:17:40] \"\u001b[37mGET / HTTP/1.1\u001b[0m\" 200 -\n",
      "127.0.0.1 - - [05/Jan/2021 20:17:40] \"\u001b[37mGET /getMissing/1893 HTTP/1.1\u001b[0m\" 200 -\n"
     ]
    },
    {
     "name": "stdout",
     "output_type": "stream",
     "text": [
      "1893\n"
     ]
    }
   ],
   "source": [
    "if __name__ == '__main__':\n",
    "    #load_model()  # load model at the beginning once only\n",
    "    createBlocks()\n",
    "    encryptBlock()\n",
    "    app.run(host=host, port=port)"
   ]
  },
  {
   "cell_type": "code",
   "execution_count": null,
   "metadata": {},
   "outputs": [],
   "source": []
  }
 ],
 "metadata": {
  "colab": {
   "collapsed_sections": [],
   "name": "Untitled2.ipynb",
   "provenance": [],
   "toc_visible": true
  },
  "kernelspec": {
   "display_name": "Python 3",
   "language": "python",
   "name": "python3"
  },
  "language_info": {
   "codemirror_mode": {
    "name": "ipython",
    "version": 3
   },
   "file_extension": ".py",
   "mimetype": "text/x-python",
   "name": "python",
   "nbconvert_exporter": "python",
   "pygments_lexer": "ipython3",
   "version": "3.8.3"
  }
 },
 "nbformat": 4,
 "nbformat_minor": 1
}
